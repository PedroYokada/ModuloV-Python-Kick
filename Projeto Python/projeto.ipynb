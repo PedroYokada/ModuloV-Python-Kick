{
 "cells": [
  {
   "cell_type": "code",
   "execution_count": 3,
   "metadata": {},
   "outputs": [],
   "source": [
    "# importação das bibliotecas\n",
    "import pandas as pd\n",
    "import matplotlib.pyplot as plt"
   ]
  },
  {
   "cell_type": "code",
   "execution_count": null,
   "metadata": {},
   "outputs": [],
   "source": [
    "# leitura do arquivo CSV\n",
    "leitor = pd.read_csv('lista_de_espera_sisu_2022_2.csv', sep='|', encoding='latin-1')"
   ]
  },
  {
   "cell_type": "code",
   "execution_count": null,
   "metadata": {},
   "outputs": [],
   "source": [
    "# leitura das primeiras linhas do arquivo\n",
    "print(leitor.head())\n",
    "# leitura das colunas da tabela\n",
    "print(leitor.columns)"
   ]
  },
  {
   "cell_type": "code",
   "execution_count": null,
   "metadata": {},
   "outputs": [],
   "source": [
    "# leitura do campo \"TURNO\" dos cursos de graduação em geral\n",
    "turno = leitor['TURNO'].value_counts()\n",
    "print(turno)\n"
   ]
  },
  {
   "cell_type": "code",
   "execution_count": null,
   "metadata": {},
   "outputs": [],
   "source": [
    "# criação do grafico \"TURNO\" dos cursos de graduação em geral\n",
    "turno.plot(kind='bar')\n",
    "plt.xlabel('TURNO DOS CURSOS')\n",
    "plt.show()"
   ]
  },
  {
   "cell_type": "code",
   "execution_count": null,
   "metadata": {},
   "outputs": [],
   "source": [
    "# Print do campo \"GRAU\" dos participantes do SISU\n",
    "grau = leitor['GRAU'].value_counts()\n",
    "print(grau)"
   ]
  },
  {
   "cell_type": "code",
   "execution_count": null,
   "metadata": {},
   "outputs": [],
   "source": [
    "# Gráfico do campo \"GRAU\" dos participantes do SISU\n",
    "grau.head(4).plot(kind='bar')\n",
    "plt.xlabel('')\n",
    "plt.title('Grau Cursos')\n",
    "plt.show()\n"
   ]
  },
  {
   "cell_type": "code",
   "execution_count": null,
   "metadata": {},
   "outputs": [],
   "source": [
    "# Print do campo \"COTA\" dos participantes do SISU\n",
    "cota = leitor['MOD_CONCORRENCIA'].value_counts()\n",
    "print(cota)\n"
   ]
  },
  {
   "cell_type": "code",
   "execution_count": null,
   "metadata": {},
   "outputs": [],
   "source": [
    "# Print do campo \"COTA\" dos participantes do SISU\n",
    "cota.head(7).plot(kind='bar')\n",
    "plt.xlabel('')\n",
    "plt.title('TIPO DE COTAS')\n",
    "plt.show()\n"
   ]
  },
  {
   "cell_type": "code",
   "execution_count": null,
   "metadata": {},
   "outputs": [],
   "source": [
    "# Print do campo \"MUNICIPIO_CANDIDATO\" \n",
    "cidade = leitor['MUNICIPIO_CANDIDATO'].value_counts()\n",
    "print(cidade)"
   ]
  },
  {
   "cell_type": "code",
   "execution_count": null,
   "metadata": {},
   "outputs": [],
   "source": [
    "# Criação do gráfico \"MUNICIPIO_CANDIDATO\" \n",
    "cidade.head(10).plot(kind='pie', autopct='%1.1f%%')\n",
    "plt.ylabel('')  # Remove o rótulo automático do eixo y\n",
    "plt.title('Muncipio dos Candidatos')\n",
    "plt.show()\n"
   ]
  },
  {
   "cell_type": "code",
   "execution_count": null,
   "metadata": {},
   "outputs": [],
   "source": [
    "# Print do campo \"NOTA_CORTE\" \n",
    "nota_corte = leitor['NOTA_CORTE'].value_counts()\n",
    "print(nota_corte)"
   ]
  },
  {
   "cell_type": "code",
   "execution_count": null,
   "metadata": {},
   "outputs": [],
   "source": [
    "# Criação do gráfico \"NOTA_CORTE\" \n",
    "nota_corte.head(15).plot(kind='pie', autopct='%1.1f%%')\n",
    "plt.ylabel('')  # Remove o rótulo automático do eixo y\n",
    "plt.title('Nota de Corte dos cursos')\n",
    "plt.show()\n"
   ]
  }
 ],
 "metadata": {
  "kernelspec": {
   "display_name": "Python 3",
   "language": "python",
   "name": "python3"
  },
  "language_info": {
   "codemirror_mode": {
    "name": "ipython",
    "version": 3
   },
   "file_extension": ".py",
   "mimetype": "text/x-python",
   "name": "python",
   "nbconvert_exporter": "python",
   "pygments_lexer": "ipython3",
   "version": "3.12.5"
  }
 },
 "nbformat": 4,
 "nbformat_minor": 2
}
