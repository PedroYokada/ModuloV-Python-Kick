{
 "cells": [
  {
   "cell_type": "code",
   "execution_count": 3,
   "metadata": {},
   "outputs": [],
   "source": [
    "# importação das bibliotecas\n",
    "import pandas as pd\n",
    "import matplotlib.pyplot as plt"
   ]
  },
  {
   "cell_type": "code",
   "execution_count": null,
   "metadata": {},
   "outputs": [],
   "source": [
    "# leitura do arquivo CSV\n",
    "leitor = pd.read_csv('lista_de_espera_sisu_2022_2.csv', sep='|', encoding='latin-1')"
   ]
  },
  {
   "cell_type": "code",
   "execution_count": 249,
   "metadata": {},
   "outputs": [
    {
     "name": "stdout",
     "output_type": "stream",
     "text": [
      "    ANO  EDICAO  ETAPA         DS_ETAPA  CODIGO_IES  \\\n",
      "0  2022       2      7  LISTA DE ESPERA         593   \n",
      "1  2022       2      7  LISTA DE ESPERA         593   \n",
      "2  2022       2      7  LISTA DE ESPERA         593   \n",
      "3  2022       2      7  LISTA DE ESPERA         593   \n",
      "4  2022       2      7  LISTA DE ESPERA         593   \n",
      "\n",
      "                                            NOME_IES SIGLA_IES UF_IES  \\\n",
      "0  CENTRO FEDERAL DE EDUCAÇÃO TECNOLÓGICA CELSO S...  CEFET/RJ     RJ   \n",
      "1  CENTRO FEDERAL DE EDUCAÇÃO TECNOLÓGICA CELSO S...  CEFET/RJ     RJ   \n",
      "2  CENTRO FEDERAL DE EDUCAÇÃO TECNOLÓGICA CELSO S...  CEFET/RJ     RJ   \n",
      "3  CENTRO FEDERAL DE EDUCAÇÃO TECNOLÓGICA CELSO S...  CEFET/RJ     RJ   \n",
      "4  CENTRO FEDERAL DE EDUCAÇÃO TECNOLÓGICA CELSO S...  CEFET/RJ     RJ   \n",
      "\n",
      "   CODIGO_CAMPUS                NOME_CAMPUS  ... NOTA_L_COM_PESO  \\\n",
      "0           1663  CEFET-RJ - MARIA DA GRAÇA  ...           588,2   \n",
      "1           1663  CEFET-RJ - MARIA DA GRAÇA  ...           607,6   \n",
      "2           1663  CEFET-RJ - MARIA DA GRAÇA  ...           481,9   \n",
      "3           1663  CEFET-RJ - MARIA DA GRAÇA  ...           599,2   \n",
      "4           1663  CEFET-RJ - MARIA DA GRAÇA  ...           607,9   \n",
      "\n",
      "  NOTA_CH_COM_PESO  NOTA_CN_COM_PESO NOTA_M_COM_PESO NOTA_R_COM_PESO  \\\n",
      "0            597,7            1041,4          1902,4            2580   \n",
      "1              608            1011,2          2406,4            2520   \n",
      "2            517,1            1218,8          2435,6            2820   \n",
      "3            682,8            1113,6          2107,2            2580   \n",
      "4            669,1            1117,4          2936,4            1620   \n",
      "\n",
      "  NOTA_CANDIDATO NOTA_CORTE CLASSIFICACAO APROVADO      MATRICULA  \n",
      "0         609,97     650,76            27        S  NÃO CONVOCADO  \n",
      "1         650,29     650,76            17        S  NÃO CONVOCADO  \n",
      "2          679,4     650,76             4        S      EFETIVADA  \n",
      "3         643,89     650,76            19        S  NÃO CONVOCADO  \n",
      "4         631,89     650,76            23        S  NÃO CONVOCADO  \n",
      "\n",
      "[5 rows x 56 columns]\n",
      "Index(['ANO', 'EDICAO', 'ETAPA', 'DS_ETAPA', 'CODIGO_IES', 'NOME_IES',\n",
      "       'SIGLA_IES', 'UF_IES', 'CODIGO_CAMPUS', 'NOME_CAMPUS', 'UF_CAMPUS',\n",
      "       'MUNICIPIO_CAMPUS', 'CODIGO_CURSO', 'NOME_CURSO', 'GRAU', 'TURNO',\n",
      "       'DS_PERIODICIDADE', 'TP_COTA', 'TIPO_MOD_CONCORRENCIA',\n",
      "       'MOD_CONCORRENCIA', 'QT_VAGAS_CONCORRENCIA', 'PERCENTUAL_BONUS',\n",
      "       'PESO_L', 'PESO_CH', 'PESO_CN', 'PESO_M', 'PESO_R', 'NOTA_MINIMA_L',\n",
      "       'NOTA_MINIMA_CH', 'NOTA_MINIMA_CN', 'NOTA_MINIMA_M', 'NOTA_MINIMA_R',\n",
      "       'MEDIA_MINIMA', 'CPF', 'INSCRICAO_ENEM', 'INSCRITO', 'SEXO',\n",
      "       'DATA_NASCIMENTO', 'UF_CANDIDATO', 'MUNICIPIO_CANDIDATO', 'OPCAO',\n",
      "       'NOTA_L', 'NOTA_CH', 'NOTA_CN', 'NOTA_M', 'NOTA_R', 'NOTA_L_COM_PESO',\n",
      "       'NOTA_CH_COM_PESO', 'NOTA_CN_COM_PESO', 'NOTA_M_COM_PESO',\n",
      "       'NOTA_R_COM_PESO', 'NOTA_CANDIDATO', 'NOTA_CORTE', 'CLASSIFICACAO',\n",
      "       'APROVADO', 'MATRICULA'],\n",
      "      dtype='object')\n"
     ]
    }
   ],
   "source": [
    "# leitura das primeiras linhas do arquivo\n",
    "print(leitor.head())\n",
    "# leitura das colunas da tabela\n",
    "print(leitor.columns)"
   ]
  },
  {
   "cell_type": "code",
   "execution_count": null,
   "metadata": {},
   "outputs": [],
   "source": [
    "# leitura do campo \"TURNO\" dos cursos de graduação em geral\n",
    "turno = leitor['TURNO'].value_counts()\n",
    "print(turno)\n"
   ]
  },
  {
   "cell_type": "code",
   "execution_count": null,
   "metadata": {},
   "outputs": [],
   "source": [
    "# criação do grafico \"TURNO\" dos cursos de graduação em geral\n",
    "turno.plot(kind='bar')\n",
    "plt.xlabel('TURNO DOS CURSOS')\n",
    "plt.show()"
   ]
  },
  {
   "cell_type": "code",
   "execution_count": null,
   "metadata": {},
   "outputs": [],
   "source": [
    "print('A interpretação que se pode fazer desses dados é que, nos cursos de graduação, em sua esmagadora maioria, o turno é de período integral, '\n",
    "      'o que já exclui muitas pessoas com uma condição financeira mais baixa, pois, para pagar suas despesas pessoais, necessitam trabalhar. '\n",
    "      'Existem políticas de bolsas para pessoas de renda baixa, mas o valor delas nem sempre é suficiente, dependendo também do custo de vida das cidades. '\n",
    "      'Recentemente, o Senado Federal aprovou um aumento de até 700 reais; com a sanção do Presidente Lula; no entanto, esse valor ainda é muito baixo.'\n",
    "      'https://economia.uol.com.br/noticias/redacao/2024/06/12/bolsa-de-r-700-a-universitarios-e-voltada-a-estudantes-de-baixa-renda.html'\n",
    "      'https://correiodoestado.com.br/politica/lula-sanciona-politica-de-bolsas-para-alunos-de-universidades-federais/432759/')\n"
   ]
  },
  {
   "cell_type": "code",
   "execution_count": null,
   "metadata": {},
   "outputs": [],
   "source": [
    "# Print do campo \"GRAU\" dos participantes do SISU\n",
    "grau = leitor['GRAU'].value_counts()\n",
    "print(grau)"
   ]
  },
  {
   "cell_type": "code",
   "execution_count": null,
   "metadata": {},
   "outputs": [],
   "source": [
    "# Gráfico do campo \"GRAU\" dos participantes do SISU\n",
    "grau.head(4).plot(kind='bar')\n",
    "plt.xlabel('')\n",
    "plt.title('Grau Cursos')\n",
    "plt.show()\n"
   ]
  },
  {
   "cell_type": "code",
   "execution_count": null,
   "metadata": {},
   "outputs": [],
   "source": [
    "print('A grande maioria dos curso bacharel o turno é integral, além do vestibular esta é outra grande barreira de alunos pobres e estudantes de escola pública.')"
   ]
  },
  {
   "cell_type": "code",
   "execution_count": null,
   "metadata": {},
   "outputs": [],
   "source": [
    "# Print do campo \"UF_CANDIDATO\" dos participantes do SISU\n",
    "cidade_candidato = leitor['MUNICIPIO_CANDIDATO'].value_counts()\n",
    "print(cidade_candidato)\n"
   ]
  },
  {
   "cell_type": "code",
   "execution_count": null,
   "metadata": {},
   "outputs": [],
   "source": [
    "# Gráfico do campo \"MUNICIPIO_CANDIDATO\" dos participantes do SISU\n",
    "cidade_candidato.head(20).plot(kind='bar')\n",
    "plt.xlabel('')\n",
    "plt.title('Quantidade de candidatos inscritos em cada municipio')\n",
    "plt.show()\n"
   ]
  },
  {
   "cell_type": "code",
   "execution_count": null,
   "metadata": {},
   "outputs": [],
   "source": [
    "print('Esse grafico me faz refletir que os candidatos de cidades grandes tem mais possibilidade de passar em universidades publicas do que candidatos residentes em cidades menores'\n",
    "      'O que mostra uma grande desigualdade no pais, visto que as cidades de regiões metropolitanas possuem mais infraestrutura, mais recursos educacionais, mais cursinhos pré vestibulares,'\n",
    "      'no entanto a qualidade da educação é um fator muito consideravel'\n",
    "      'https://guiadoestudante.abril.com.br/enem/pre-enem-5-cursinhos-gratuitos-para-se-inscrever-no-meio-do-ano'\n",
    "      'https://www.terra.com.br/noticias/educacao/cursinho-pre-vestibular-gratuito-na-usp-saiba-como-se-inscrever,225e6c7cb5a85e4de70940466afa88b0cf4w7e7p.html#google_vignette'\n",
    "      'https://www.terra.com.br/noticias/educacao/cursinho-pre-vestibular-gratuito-na-usp-saiba-como-se-inscrever,225e6c7cb5a85e4de70940466afa88b0cf4w7e7p.html#google_vignette'\n",
    "    )"
   ]
  },
  {
   "cell_type": "code",
   "execution_count": null,
   "metadata": {},
   "outputs": [],
   "source": [
    "\n",
    "# Print do campo \"NOME_CURSO\" dos participantes do SISU\n",
    "curso = leitor['NOME_CURSO'].value_counts()\n",
    "print(curso)"
   ]
  },
  {
   "cell_type": "code",
   "execution_count": null,
   "metadata": {},
   "outputs": [],
   "source": [
    "# Criação do gráfico \"NOME_CURSO\" \n",
    "curso.head(20).plot(kind='bar')\n",
    "plt.xlabel('')\n",
    "plt.title('Nome dos cursos')\n",
    "plt.show()\n"
   ]
  },
  {
   "cell_type": "code",
   "execution_count": null,
   "metadata": {},
   "outputs": [],
   "source": [
    "print('Esses dados é uma percepção pessoal minha, aqui na região onde eu moro, existem poucas vagas para o curso de Análise e desenvolvimento de sistemas.'\n",
    "      'A procura para este curso é bem alta, tanto nas Fatecs e nos institutos federais, na fatec onde desejo são 764 concorrentes para 36 vagas'\n",
    "      'https://www.cps.sp.gov.br/analise-e-desenvolvimento-de-sistemas-e-o-curso-mais-concorrido-do-vestibular-das-fatecs/'\n",
    "      'acredito que isso não é uma situação aplicada a mim, varias pessoas optam por fazer faculdades privadas devido a alta concorrencia das instituições publicas.')"
   ]
  },
  {
   "cell_type": "code",
   "execution_count": null,
   "metadata": {},
   "outputs": [],
   "source": [
    "# Print do campo \"NOTA_CORTE\" \n",
    "nota_corte = leitor['NOTA_CORTE'].value_counts()\n",
    "print(nota_corte)"
   ]
  },
  {
   "cell_type": "code",
   "execution_count": null,
   "metadata": {},
   "outputs": [],
   "source": [
    "# Criação do gráfico \"NOTA_CORTE\" \n",
    "nota_corte.head(15).plot(kind='pie', autopct='%1.1f%%')\n",
    "plt.ylabel('')  \n",
    "plt.title('Nota de Corte dos cursos')\n",
    "plt.show()\n"
   ]
  },
  {
   "cell_type": "code",
   "execution_count": null,
   "metadata": {},
   "outputs": [],
   "source": [
    "print('Esse grafico de notas de corte faz pensar que os alunos que alcançam notas maiores, a maioria são de alunos de escolas particulares, evidenciando uma forte desigualdade social'\n",
    "      'no setor publico e privado, na matéria abaixo, de 60 notas maximas de redação, apenas 6 porcento foram de alunos de escola publica'\n",
    "      'https://noticias.r7.com/educacao/indicadores-do-enem-evidenciam-diferencas-entre-escolas-publicas-e-privadas-avaliam-especialistas-22012024/')"
   ]
  },
  {
   "cell_type": "code",
   "execution_count": null,
   "metadata": {},
   "outputs": [],
   "source": [
    "# Print do campo \"NOTA_CORTE\" \n",
    "sexo = leitor['SEXO'].value_counts()\n",
    "print(sexo)"
   ]
  },
  {
   "cell_type": "code",
   "execution_count": null,
   "metadata": {},
   "outputs": [],
   "source": [
    "# Criação do gráfico \"NOTA_CORTE\" \n",
    "sexo.head(2).plot(kind='pie', autopct='%1.1f%%')\n",
    "plt.ylabel('M: Masculino (61295)/ F: Feminino (122912)')  \n",
    "plt.title('Sexo dos participantes')\n",
    "plt.show()"
   ]
  },
  {
   "cell_type": "code",
   "execution_count": null,
   "metadata": {},
   "outputs": [],
   "source": [
    "print('Minha interpretação me baseou nos dados do IBGE, em que a população parda é predominante no Brasil,'\n",
    "      'Pessoas negras e pardas estão mais vulneraveis a violencia, segundo a matéria do g1 150 mil homens negros e pardos foram assasinados entre 2012-2022'\n",
    "      'O que é praticamente uma cidade de médio porte aniquilada, com a espectativa de vida muito reduzida acredito que este seja apenas seja um dos varios fatores deste grupo ter feito o vestibular'\n",
    "      'Outro dado que não é totalmente concreto é que pessoas que não concluem o ensino médio tem a expectativa de vida reduzida'\n",
    "      'https://g1.globo.com/politica/noticia/2024/05/27/em-10-anos-disparos-de-armas-de-fogo-mataram-4-vezes-mais-negros-que-brancos-no-brasil-diz-pesquisa.ghtml'\n",
    "      'https://g1.globo.com/bom-dia-brasil/noticia/2023/04/18/jovens-que-nao-concluem-o-ensino-medio-ganham-salario-mais-baixos-e-vivem-menos-diz-estudo.ghtml'\n",
    "      'https://www.brasildefato.com.br/2024/06/19/em-11-anos-73-dos-homicidios-no-brasil-foram-contra-negros'\n",
    "      'https://educa.ibge.gov.br/jovens/conheca-o-brasil/populacao/18319-cor-ou-raca.html#:~:text=A%20pesquisa%20revelou%20ainda%20que,1%20mil)%20se%20declararam%20amarelas.'\n",
    "      'https://www12.senado.leg.br/radio/1/noticia/2024/06/24/pessoas-negras-sao-maioria-das-vitimas-de-homicidio-revela-atlas-da-violencia')"
   ]
  },
  {
   "cell_type": "code",
   "execution_count": 266,
   "metadata": {},
   "outputs": [
    {
     "name": "stdout",
     "output_type": "stream",
     "text": [
      "MEDIA_MINIMA\n",
      "0        42582\n",
      "0,01     23674\n",
      "60,01    18372\n",
      "0        15131\n",
      "98        8578\n",
      "         ...  \n",
      "347         13\n",
      "0,8         11\n",
      "140,6       10\n",
      "432          9\n",
      "90           9\n",
      "Name: count, Length: 85, dtype: int64\n"
     ]
    },
    {
     "data": {
      "image/png": "[encoded data removed]",
      "text/plain": [
       "<Figure size 640x480 with 1 Axes>"
      ]
     },
     "metadata": {},
     "output_type": "display_data"
    }
   ],
   "source": [
    "# Print do campo \"MEDIA_MINIMA\" \n",
    "media = leitor['MEDIA_MINIMA'].value_counts()\n",
    "print(media)\n",
    "\n",
    "# Criação do gráfico \"MEDIA_MINIMA\" \n",
    "media.head(30).plot(kind='bar')\n",
    "plt.xlabel('')\n",
    "plt.title('Media minima das notas')\n",
    "plt.show()"
   ]
  }
 ],
 "metadata": {
  "kernelspec": {
   "display_name": "Python 3",
   "language": "python",
   "name": "python3"
  },
  "language_info": {
   "codemirror_mode": {
    "name": "ipython",
    "version": 3
   },
   "file_extension": ".py",
   "mimetype": "text/x-python",
   "name": "python",
   "nbconvert_exporter": "python",
   "pygments_lexer": "ipython3",
   "version": "3.12.5"
  }
 },
 "nbformat": 4,
 "nbformat_minor": 2
}
