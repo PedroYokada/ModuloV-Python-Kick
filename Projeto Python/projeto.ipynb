{
 "cells": [
  {
   "cell_type": "code",
   "execution_count": 151,
   "metadata": {},
   "outputs": [],
   "source": [
    "# importação das bibliotecas\n",
    "import pandas as pd\n",
    "import matplotlib.pyplot as plt"
   ]
  },
  {
   "cell_type": "code",
   "execution_count": null,
   "metadata": {},
   "outputs": [],
   "source": [
    "# leitura do arquivo CSV\n",
    "leitor = pd.read_csv('lista_de_espera_sisu_2022_2.csv', sep='|', encoding='latin-1')"
   ]
  },
  {
   "cell_type": "code",
   "execution_count": null,
   "metadata": {},
   "outputs": [],
   "source": [
    "# leitura das primeiras linhas do arquivo\n",
    "print(leitor.head())\n",
    "# leitura das colunas da tabela\n",
    "print(leitor.columns)"
   ]
  },
  {
   "cell_type": "code",
   "execution_count": null,
   "metadata": {},
   "outputs": [],
   "source": [
    "# leitura do campo \"TURNO\" dos cursos de graduação em geral\n",
    "turno = leitor['TURNO'].value_counts()\n",
    "print(turno)\n"
   ]
  },
  {
   "cell_type": "code",
   "execution_count": null,
   "metadata": {},
   "outputs": [],
   "source": [
    "# criação do grafico \"TURNO\" dos cursos de graduação em geral\n",
    "turno.plot(kind='bar')\n",
    "plt.xlabel('TURNO DOS CURSOS')\n",
    "plt.show()"
   ]
  },
  {
   "cell_type": "code",
   "execution_count": 156,
   "metadata": {},
   "outputs": [],
   "source": [
    "turno = (\n",
    "    \"A interpretação que se pode fazer desses dados é que, nos cursos de graduação, em sua esmagadora maioria, o turno é de período integral, \"\n",
    "    \"o que já exclui muitas pessoas com uma condição financeira mais baixa, pois, para pagar suas despesas pessoais, necessitam trabalhar. \"\n",
    "    \"Existem políticas de bolsas para pessoas de renda baixa, mas o valor delas nem sempre é suficiente, dependendo também do custo de vida das cidades. \"\n",
    "    \"Recentemente, o Senado Federal aprovou um aumento de até 700 reais, com a sanção do Presidente Lula; no entanto, esse valor ainda é muito baixo.\\n\"\n",
    "    \"Links relevantes:\\n\"\n",
    "    \"https://economia.uol.com.br/noticias/redacao/2024/06/12/bolsa-de-r-700-a-universitarios-e-voltada-a-estudantes-de-baixa-renda.html\\n\"\n",
    "    \"https://correiodoestado.com.br/politica/lula-sanciona-politica-de-bolsas-para-alunos-de-universidades-federais/432759/\"\n",
    ")\n",
    "\n"
   ]
  },
  {
   "cell_type": "code",
   "execution_count": null,
   "metadata": {},
   "outputs": [],
   "source": [
    "# Print do campo \"GRAU\" dos participantes do SISU\n",
    "grau = leitor['GRAU'].value_counts()\n",
    "print(grau)"
   ]
  },
  {
   "cell_type": "code",
   "execution_count": null,
   "metadata": {},
   "outputs": [],
   "source": [
    "# Gráfico do campo \"GRAU\" dos participantes do SISU\n",
    "grau.head(4).plot(kind='bar')\n",
    "plt.xlabel('')\n",
    "plt.title('Grau Cursos')\n",
    "plt.show()\n"
   ]
  },
  {
   "cell_type": "code",
   "execution_count": null,
   "metadata": {},
   "outputs": [],
   "source": [
    "print('A grande maioria dos curso bacharel o turno é integral, além do vestibular esta é outra grande barreira de alunos pobres e estudantes de escola pública.')"
   ]
  },
  {
   "cell_type": "code",
   "execution_count": null,
   "metadata": {},
   "outputs": [],
   "source": [
    "# Print do campo \"UF_CANDIDATO\" dos participantes do SISU\n",
    "cidade_candidato = leitor['MUNICIPIO_CANDIDATO'].value_counts()\n",
    "print(cidade_candidato)\n",
    "\n",
    "pd.set_option('display.max_rows', None)"
   ]
  },
  {
   "cell_type": "code",
   "execution_count": null,
   "metadata": {},
   "outputs": [],
   "source": [
    "# Gráfico do campo \"MUNICIPIO_CANDIDATO\" dos participantes do SISU\n",
    "cidade_candidato.head(20).plot(kind='bar')\n",
    "plt.xlabel('')\n",
    "plt.title('Quantidade de candidatos inscritos em cada municipio')\n",
    "plt.show()\n"
   ]
  },
  {
   "cell_type": "code",
   "execution_count": null,
   "metadata": {},
   "outputs": [],
   "source": [
    "print('Esse grafico me faz refletir que os candidatos de cidades grandes tem mais possibilidade de passar em universidades publicas do que candidatos residentes em cidades menores'\n",
    "      'O que mostra uma grande desigualdade no pais, visto que as cidades de regiões metropolitanas possuem mais infraestrutura, mais recursos educacionais, mais cursinhos pré vestibulares,'\n",
    "      'no entanto a qualidade da educação é um fator muito consideravel'\n",
    "      'https://guiadoestudante.abril.com.br/enem/pre-enem-5-cursinhos-gratuitos-para-se-inscrever-no-meio-do-ano'\n",
    "      'https://www.terra.com.br/noticias/educacao/cursinho-pre-vestibular-gratuito-na-usp-saiba-como-se-inscrever,225e6c7cb5a85e4de70940466afa88b0cf4w7e7p.html#google_vignette'\n",
    "      'https://www.terra.com.br/noticias/educacao/cursinho-pre-vestibular-gratuito-na-usp-saiba-como-se-inscrever,225e6c7cb5a85e4de70940466afa88b0cf4w7e7p.html#google_vignette'\n",
    "    )"
   ]
  },
  {
   "cell_type": "code",
   "execution_count": null,
   "metadata": {},
   "outputs": [],
   "source": [
    "\n",
    "# Print do campo \"NOME_CURSO\" dos participantes do SISU\n",
    "curso = leitor['NOME_CURSO'].value_counts()\n",
    "print(curso)"
   ]
  },
  {
   "cell_type": "code",
   "execution_count": null,
   "metadata": {},
   "outputs": [],
   "source": [
    "# Criação do gráfico \"NOME_CURSO\" \n",
    "curso.head(20).plot(kind='bar')\n",
    "plt.xlabel('')\n",
    "plt.title('Nome dos cursos')\n",
    "plt.show()\n"
   ]
  },
  {
   "cell_type": "code",
   "execution_count": null,
   "metadata": {},
   "outputs": [],
   "source": [
    "print('Esses dados é uma percepção pessoal minha, aqui na região onde eu moro, existem poucas vagas para o curso de Análise e desenvolvimento de sistemas.'\n",
    "      'A procura para este curso é bem alta, tanto nas Fatecs e nos institutos federais, na fatec onde desejo são 764 concorrentes para 36 vagas'\n",
    "      'https://www.cps.sp.gov.br/analise-e-desenvolvimento-de-sistemas-e-o-curso-mais-concorrido-do-vestibular-das-fatecs/'\n",
    "      'acredito que isso não é uma situação aplicada a mim, varias pessoas optam por fazer faculdades privadas devido a alta concorrencia das instituições publicas.')"
   ]
  },
  {
   "cell_type": "code",
   "execution_count": null,
   "metadata": {},
   "outputs": [],
   "source": [
    "# Print do campo \"NOTA_CORTE\" \n",
    "nota_corte = leitor['NOTA_CORTE'].value_counts()\n",
    "print(nota_corte)\n"
   ]
  },
  {
   "cell_type": "code",
   "execution_count": null,
   "metadata": {},
   "outputs": [],
   "source": [
    "# Criação do gráfico \"NOTA_CORTE\" \n",
    "nota_corte.head(20).plot(kind='bar')\n",
    "plt.xlabel('')\n",
    "plt.title('Nome dos cursos')\n",
    "plt.show()\n"
   ]
  },
  {
   "cell_type": "code",
   "execution_count": null,
   "metadata": {},
   "outputs": [],
   "source": [
    "print('Esse grafico de notas de corte faz pensar que os alunos que alcançam notas maiores, a maioria são de alunos de escolas particulares, evidenciando uma forte desigualdade social'\n",
    "      'no setor publico e privado, na matéria abaixo, de 60 notas maximas de redação, apenas 6 porcento foram de alunos de escola publica'\n",
    "      'https://noticias.r7.com/educacao/indicadores-do-enem-evidenciam-diferencas-entre-escolas-publicas-e-privadas-avaliam-especialistas-22012024/')"
   ]
  },
  {
   "cell_type": "code",
   "execution_count": null,
   "metadata": {},
   "outputs": [],
   "source": [
    "# Print do campo \"NOTA_CORTE\" \n",
    "sexo = leitor['SEXO'].value_counts()\n",
    "print(sexo)"
   ]
  },
  {
   "cell_type": "code",
   "execution_count": null,
   "metadata": {},
   "outputs": [],
   "source": [
    "# Criação do gráfico \"NOTA_CORTE\" \n",
    "sexo.head(2).plot(kind='pie', autopct='%1.1f%%')\n",
    "plt.ylabel('M: Masculino (61295)/ F: Feminino (122912)')  \n",
    "plt.title('Sexo dos participantes')\n",
    "plt.show()"
   ]
  },
  {
   "cell_type": "code",
   "execution_count": null,
   "metadata": {},
   "outputs": [],
   "source": [
    "print('Minha interpretação me baseou nos dados do IBGE, em que a população parda é predominante no Brasil,'\n",
    "      'Pessoas negras e pardas estão mais vulneraveis a violencia, segundo a matéria do g1 150 mil homens negros e pardos foram assasinados entre 2012-2022'\n",
    "      'O que é praticamente uma cidade de médio porte aniquilada, com a espectativa de vida muito reduzida acredito que este seja apenas seja um dos varios fatores deste grupo ter feito o vestibular'\n",
    "      'Outro dado que não é totalmente concreto é que pessoas que não concluem o ensino médio tem a expectativa de vida reduzida'\n",
    "      'https://g1.globo.com/politica/noticia/2024/05/27/em-10-anos-disparos-de-armas-de-fogo-mataram-4-vezes-mais-negros-que-brancos-no-brasil-diz-pesquisa.ghtml'\n",
    "      'https://g1.globo.com/bom-dia-brasil/noticia/2023/04/18/jovens-que-nao-concluem-o-ensino-medio-ganham-salario-mais-baixos-e-vivem-menos-diz-estudo.ghtml'\n",
    "      'https://www.brasildefato.com.br/2024/06/19/em-11-anos-73-dos-homicidios-no-brasil-foram-contra-negros'\n",
    "      'https://educa.ibge.gov.br/jovens/conheca-o-brasil/populacao/18319-cor-ou-raca.html#:~:text=A%20pesquisa%20revelou%20ainda%20que,1%20mil)%20se%20declararam%20amarelas.'\n",
    "      'https://www12.senado.leg.br/radio/1/noticia/2024/06/24/pessoas-negras-sao-maioria-das-vitimas-de-homicidio-revela-atlas-da-violencia')"
   ]
  },
  {
   "cell_type": "code",
   "execution_count": 172,
   "metadata": {},
   "outputs": [],
   "source": [
    "from fpdf import FPDF\n",
    "yok = FPDF()"
   ]
  },
  {
   "cell_type": "code",
   "execution_count": null,
   "metadata": {},
   "outputs": [],
   "source": [
    "yok.add_page()\n",
    "yok.set_font(\"Times\", size=20)\n",
    "yok.cell(200, 10, txt=\"Análise socioeconomicas da educação publica e privada - SISU\", ln=True, align='C')\n",
    "yok.cell(200, 10, txt=\"PEDRO YOKADA - TURMA L\", ln=True, align='C')\n",
    "yok.image('educ.jpg', x=10, y=80, w=190)\n",
    "\n",
    "\n"
   ]
  },
  {
   "cell_type": "code",
   "execution_count": null,
   "metadata": {},
   "outputs": [],
   "source": [
    "# Criar DataFrame com os dados\n",
    "data = {\n",
    "    'TURNO': ['Integral', 'Noturno', 'Matutino', 'Vespertino', 'EAD'], \n",
    "    'Valores': [121699, 39215, 12315, 9539, 1439]\n",
    "} \n",
    "\n",
    "turno = pd.DataFrame(data)\n",
    "\n",
    "# Plotar gráfico de barras usando o DataFrame 'turno'\n",
    "plt.figure(figsize=(8, 6))  # Tamanho do gráfico\n",
    "bars = plt.bar(turno['TURNO'], turno['Valores'], color=plt.cm.Paired(range(len(turno))))\n",
    "\n",
    "# Adicionar valores em cima de cada barra\n",
    "for bar in bars:\n",
    "    yval = bar.get_height()\n",
    "    plt.text(bar.get_x() + bar.get_width()/2, yval, f'{yval:,}', ha='center', va='bottom', fontsize=9)\n",
    "\n",
    "# Definir fonte do gráfico\n",
    "font = {'family': 'arial', 'color': 'black', 'weight': 'normal', 'size': 9}\n",
    "plt.xlabel('TURNOS DOS CURSOS DE GRADUAÇÃO', fontdict=font)\n",
    "plt.ylabel('NÚMERO DE ALUNOS', fontdict=font)\n",
    "plt.title('Distribuição de Turnos dos Cursos de Graduação', fontdict={'size': 14, 'weight': 'bold'})  # Título do gráfico\n",
    "\n",
    "# Salvar gráfico\n",
    "plt.savefig('turno.png', bbox_inches='tight')\n",
    "plt.close()\n",
    "\n",
    "# Adicionar a imagem\n",
    "yok.add_page()\n",
    "yok.image('turno.png', x=15, y=15, w=180)"
   ]
  },
  {
   "cell_type": "code",
   "execution_count": null,
   "metadata": {},
   "outputs": [],
   "source": [
    "\n",
    "yok.add_page()\n",
    "yok.set_font(\"Times\", size=12)\n",
    "\n",
    "yok.multi_cell(\n",
    "    0,  \n",
    "    10,  \n",
    "    \"       A interpretação que se pode fazer desses dados é que, nos cursos de graduação, em sua esmagadora maioria, o turno é de período integral, \"\n",
    "    \"O grafico mostra a quantidade de alunos nos turnos dos cursos de graduação em que eles escolheram.\"\n",
    "    \"o que já exclui muitas pessoas com uma condição financeira mais baixa, pois, para pagar suas despesas pessoais, necessitam trabalhar. \"\n",
    "    \"Existem políticas de bolsas para pessoas de renda baixa, mas o valor delas nem sempre é suficiente, dependendo também do custo de vida das cidades. \"\n",
    "    \"Recentemente, o Senado Federal aprovou um aumento de até 700 reais, com a sanção do Presidente Lula; no entanto, esse valor ainda é muito baixo.\\n \"\n",
    "    \"      Outro problema é que muitos alunos que passam pelo SISU acabam passando em lugares distantes das suas cidades de onde moram, tendo gastos com deslocamento e mudança antes mesmo de qualquer vinculo com a Universidade.\\n\"\n",
    "    \"Links relevantes:\\n\"\n",
    "    \"1. https://economia.uol.com.br/noticias/redacao/2024/06/12/bolsa-de-r-700-a-universitarios-e-voltada-a-estudantes-de-baixa-renda.html\\n\"\n",
    "    \"2. https://correiodoestado.com.br/politica/lula-sanciona-politica-de-bolsas-para-alunos-de-universidades-federais/432759/\",\n",
    "\n",
    "    align='J' \n",
    ")\n"
   ]
  },
  {
   "cell_type": "code",
   "execution_count": null,
   "metadata": {},
   "outputs": [],
   "source": [
    "import pandas as pd\n",
    "import matplotlib.pyplot as plt\n",
    "\n",
    "# Criar DataFrame com as informações\n",
    "grau_data = {'GRAU': ['Bacharelado', 'Licenciatura', 'Tecnológico', 'ABI'], \n",
    "             'GRADUACAO': [149171, 23285, 9368, 2383]} \n",
    "\n",
    "grau = pd.DataFrame(grau_data)\n",
    "\n",
    "# Definir nova função para evitar conflito de nomes\n",
    "def format_pct(pct, allvalues):\n",
    "    return \"{:.1f}%\".format(pct)\n",
    "\n",
    "# Cores personalizadas\n",
    "cores = ['#4CAF50', '#2196F3', '#FFC107', '#FF5722']  # verde, azul, amarelo, laranja\n",
    "\n",
    "# Plotar gráfico de pizza usando o DataFrame 'grau'\n",
    "plt.figure(figsize=(8, 8))  # Aumentar o tamanho do gráfico\n",
    "grau.set_index('GRAU')['GRADUACAO'].plot(kind='pie', \n",
    "                                          autopct=lambda pct: format_pct(pct, grau['GRADUACAO']), \n",
    "                                          colors=cores, \n",
    "                                          legend=False,\n",
    "                                          startangle=90)  # Começar o gráfico de 90 graus\n",
    "\n",
    "# Definir fonte do gráfico\n",
    "font = {'family': 'Arial', 'color': 'black', 'weight': 'normal', 'size': 12}\n",
    "plt.title('Distribuição dos Tipos de Cursos', fontdict=font, fontsize=14)\n",
    "\n",
    "# Remover o eixo y\n",
    "plt.ylabel('')  # Remover o rótulo do eixo y\n",
    "\n",
    "# Salvar gráfico\n",
    "plt.savefig('grau.png', bbox_inches='tight')  # Ajuste para garantir que o gráfico não corte\n",
    "\n",
    "# Fechar o gráfico\n",
    "plt.close()\n",
    "\n",
    "# Adicionar a imagem ao documento\n",
    "yok.add_page()\n",
    "yok.set_font(\"Times\", size=8)\n",
    "yok.image('grau.png', x=15, y=40, w=180)  # Ajuste os valores de x, y, w conforme necessário\n",
    "\n",
    "# Adicionar texto ao documento\n",
    "yok.set_font(\"Times\", size=12)\n",
    "yok.multi_cell(\n",
    "    0,  \n",
    "    10,  \n",
    "    \"       O gráfico abaixo complementa o raciocínio anterior de que a grande maioria dos alunos optaram por cursar cursos de bacharelado, em sua grande maioria o turno é integral.\",\n",
    "    align='J' \n",
    ")\n"
   ]
  },
  {
   "cell_type": "code",
   "execution_count": null,
   "metadata": {},
   "outputs": [],
   "source": [
    "# Criar DataFrame com as informações corrigidas\n",
    "cidade_candidato = {\n",
    "    'CIDADES': ['RIO DE JANEIRO', 'SALVADOR', 'SÃO PAULO', 'SÃO LUIS', 'TERESINA', 'MANAUS','FORTALEZA','BRASILIA','BELO HORIZONTE' ,'SÃO GONÇALO'], \n",
    "    'CANDIDATOS': [14598, 5151, 4866, 4329, 4224, 3428, 2917, 2795, 2439, 2124]\n",
    "}\n",
    "\n",
    "cidades = pd.DataFrame(cidade_candidato)\n",
    "\n",
    "# Plotar gráfico de barra usando o DataFrame 'cidades'\n",
    "cidades.plot(\n",
    "    x='CIDADES', \n",
    "    y='CANDIDATOS', \n",
    "    kind='bar', \n",
    "    legend=False, \n",
    "    color='skyblue', \n",
    "    figsize=(8, 5)\n",
    ")\n",
    "\n",
    "# Adicionar título e rótulos aos eixos\n",
    "plt.title('Distribuição de Candidatos por Cidade', fontsize=14)\n",
    "plt.xlabel('Cidades', fontsize=12)\n",
    "plt.ylabel('Número de Candidatos', fontsize=12)\n",
    "\n",
    "# Adicionar rótulos de valores em cima de cada barra\n",
    "for index, value in enumerate(cidades['CANDIDATOS']):\n",
    "    plt.text(index, value + 100, str(value), ha='center', fontsize=10)\n",
    "\n",
    "plt.xticks(rotation=45)  # Rotaciona os rótulos do eixo x para melhorar a visualização\n",
    "plt.tight_layout()  # Ajusta layout para evitar sobreposição\n",
    "\n",
    "# Salvar gráfico\n",
    "plt.savefig('cidades.png')\n",
    "plt.close()  # Fecha o gráfico\n",
    "\n",
    "\n",
    "yok.add_page()  # Adiciona uma página\n",
    "yok.set_font(\"Times\", size=12)  # Define a fonte\n",
    "\n",
    "# Adicionar a imagem ao PDF\n",
    "yok.image('cidades.png', x=10, y=10, w=180)  # Ajuste os valores de x, y, w conforme necessário\n",
    "\n",
    "# Adicionar texto ao PDF\n",
    "yok.set_y(120)  # Define a posição vertical para começar o texto\n",
    "yok.multi_cell(\n",
    "    0,  \n",
    "    10,  \n",
    "    '      O gráfico acima tem como reflexão que os candidatos de cidades grandes têm mais possibilidade de passar em universidades públicas do que candidatos residentes em cidades menores. '\n",
    "    'O que mostra uma grande desigualdade no país, visto que as cidades de regiões metropolitanas possuem mais infraestrutura, mais recursos educacionais, mais cursinhos pré-vestibulares. '\n",
    "    'No entanto, a qualidade da educação é um fator muito considerável. Estudantes que residem em areas mais afastadas dos grandes centros os desafios são bem maiores para uma possivel aprovação no vestibular.\\n'\n",
    "    '1. https://g1.globo.com/rn/rio-grande-do-norte/noticia/2024/01/16/filho-de-agricultores-no-rn-tira-nota-mil-na-redacao-do-enem-viajava-100-km-por-dia-para-estudar.ghtml\\n'\n",
    "    '2. https://extra.globo.com/brasil/educacao/enem/noticia/2023/10/enem-2023-jovem-desiste-ao-ver-que-local-da-prova-sera-a-280km-de-casa-anularam-os-sonhos-dela-diz-irma.ghtml\\n'\n",
    "    '3. https://www.cartacapital.com.br/educacao/uma-viagem-estudantes-reclamam-da-distancia-dos-locais-de-prova-do-enem/',\n",
    "    align='J' \n",
    ")\n"
   ]
  },
  {
   "cell_type": "code",
   "execution_count": null,
   "metadata": {},
   "outputs": [],
   "source": [
    "# Criar DataFrame com as informações corrigidas\n",
    "\n",
    "yok.add_page()  # Adiciona uma página\n",
    "\n",
    "nota_corte = {\n",
    "    'CIDADES': ['784,08', '799,76', '783,7', '780,06', '815,6', '793,29', '781,92', '791,44', '786,6', '781,09'], \n",
    "    'CANDIDATOS': [946, 827, 802, 784, 761, 726, 672, 668, 634, 618]\n",
    "}\n",
    "\n",
    "corte = pd.DataFrame(nota_corte)  # Corrigido para usar 'nota_corte'\n",
    "\n",
    "# Plotar gráfico de barra usando o DataFrame 'corte'\n",
    "corte.plot(\n",
    "    x='CIDADES', \n",
    "    y='CANDIDATOS', \n",
    "    kind='bar', \n",
    "    legend=False, \n",
    "    color='skyblue', \n",
    "    figsize=(8, 5)\n",
    ")\n",
    "\n",
    "# Adicionar título e rótulos aos eixos\n",
    "plt.title('Distribuição de Candidatos por Cidade', fontsize=14)\n",
    "plt.xlabel('Cidades', fontsize=12)\n",
    "plt.ylabel('Número de Candidatos', fontsize=12)\n",
    "\n",
    "# Adicionar rótulos de valores em cima de cada barra\n",
    "for index, value in enumerate(corte['CANDIDATOS']):\n",
    "    plt.text(index, value + 10, str(value), ha='center', fontsize=10)  # Ajuste o valor de deslocamento conforme necessário\n",
    "\n",
    "plt.xticks(rotation=45)  # Rotaciona os rótulos do eixo x para melhorar a visualização\n",
    "plt.tight_layout()  # Ajusta layout para evitar sobreposição\n",
    "\n",
    "# Salvar gráfico\n",
    "plt.savefig('corte.png')\n",
    "plt.close()  # Fecha o gráfico\n",
    "\n",
    "# Adicionar a imagem ao PDF\n",
    "yok.image('corte.png', x=10, y=10, w=180)  # Ajuste os valores de x, y, w conforme necessário\n",
    "\n",
    "# Adicionar texto ao PDF\n",
    "yok.set_y(120)  # Define a posição vertical para começar o texto\n",
    "yok.multi_cell(\n",
    "    0,  \n",
    "    10,  \n",
    "    '      Esse gráfico de notas de corte faz pensar que os alunos que alcançam notas maiores, '\n",
    "    'a maioria são de alunos de escolas particulares, evidenciando uma forte desigualdade social '\n",
    "    'no setor público e privado. Na matéria abaixo, de 60 notas máximas de redação, apenas 6%'\n",
    "    'foram de alunos de escola pública. \\n\\n'\n",
    "    '1. https://noticias.r7.com/educacao/indicadores-do-enem-evidenciam-diferencas-entre-escolas-publicas-e-privadas-avaliam-especialistas-22012024/',\n",
    "    align='J' \n",
    ")"
   ]
  },
  {
   "cell_type": "code",
   "execution_count": null,
   "metadata": {},
   "outputs": [],
   "source": [
    "# Adicionar uma nova página ao PDF\n",
    "yok.add_page()  \n",
    "\n",
    "sexo_participante = {\n",
    "    'CIDADES': ['FEMININO', 'MASCULINO'], \n",
    "    'CANDIDATOS': [122912, 61295]\n",
    "}\n",
    "\n",
    "sexo = pd.DataFrame(sexo_participante)  # Criar DataFrame\n",
    "\n",
    "# Plotar gráfico de barra usando o DataFrame 'sexo'\n",
    "sexo.plot(\n",
    "    x='CIDADES', \n",
    "    y='CANDIDATOS', \n",
    "    kind='bar', \n",
    "    legend=False, \n",
    "    color='skyblue', \n",
    "    figsize=(8, 5)\n",
    ")\n",
    "\n",
    "# Adicionar título e rótulos aos eixos\n",
    "plt.title('Distribuição de Candidatos por Sexo', fontsize=14)\n",
    "plt.xlabel('Sexo', fontsize=12)\n",
    "plt.ylabel('Número de Candidatos', fontsize=12)\n",
    "\n",
    "# Adicionar rótulos de valores em cima de cada barra\n",
    "for index, value in enumerate(sexo['CANDIDATOS']):\n",
    "    plt.text(index, value + 1000, str(value), ha='center', fontsize=10)  # Ajuste o valor de deslocamento conforme necessário\n",
    "\n",
    "plt.xticks(rotation=0)  # Mantém os rótulos do eixo x na horizontal\n",
    "plt.tight_layout()  # Ajusta layout para evitar sobreposição\n",
    "\n",
    "# Salvar gráfico\n",
    "plt.savefig('sexo.png')\n",
    "plt.close()  # Fecha o gráfico\n",
    "\n",
    "# Adicionar a imagem ao PDF\n",
    "yok.image('sexo.png', x=10, y=10, w=180)  # Ajuste os valores de x, y, w conforme necessário\n",
    "\n",
    "# Adicionar texto ao PDF\n",
    "yok.set_y(120)  # Define a posição vertical para começar o texto\n",
    "yok.multi_cell(\n",
    "    0,  \n",
    "    10,  \n",
    "    '          Minha interpretação me baseou nos dados do IBGE, em que a população parda é predominante no Brasil. '\n",
    "    'Pessoas negras e pardas estão mais vulneráveis à violência, segundo a matéria do G1: 150 mil homens negros e pardos foram assassinados entre 2012-2022, '\n",
    "    'o que é praticamente uma cidade de médio porte aniquilada. Com a expectativa de vida muito reduzida, acredito que este seja apenas um dos vários fatores '\n",
    "    'desse grupo ter feito o vestibular. Outro dado que não é totalmente concreto é que pessoas que não concluem o ensino médio têm a expectativa de vida reduzida. \\n'\n",
    "    'Links para referência: \\n'\n",
    "    '1. https://g1.globo.com/politica/noticia/2024/05/27/em-10-anos-disparos-de-armas-de-fogo-mataram-4-vezes-mais-negros-que-brancos-no-brasil-diz-pesquisa.ghtml, \\n'\n",
    "    '2. https://g1.globo.com/bom-dia-brasil/noticia/2023/04/18/jovens-que-nao-concluem-o-ensino-medio-ganham-salario-mais-baixos-e-vivem-menos-diz-estudo.ghtml, \\n'\n",
    "    '3. https://www.brasildefato.com.br/2024/06/19/em-11-anos-73-dos-homicidios-no-brasil-foram-contra-negros, \\n'\n",
    "    '4. https://educa.ibge.gov.br/jovens/conheca-o-brasil/populacao/18319-cor-ou-raca.html#:~:text=A%20pesquisa%20revelou%20ainda%20que,1%20mil)%20se%20declararam%20amarelas., \\n'\n",
    "    '5. https://www12.senado.leg.br/radio/1/noticia/2024/06/24/pessoas-negras-sao-maioria-das-vitimas-de-homicidio-revela-atlas-da-violencia',\n",
    "    align='J' \n",
    ")"
   ]
  },
  {
   "cell_type": "code",
   "execution_count": 180,
   "metadata": {},
   "outputs": [],
   "source": [
    "yok.output(\"relatorio_pedroyokada.pdf\")"
   ]
  }
 ],
 "metadata": {
  "kernelspec": {
   "display_name": "Python 3",
   "language": "python",
   "name": "python3"
  },
  "language_info": {
   "codemirror_mode": {
    "name": "ipython",
    "version": 3
   },
   "file_extension": ".py",
   "mimetype": "text/x-python",
   "name": "python",
   "nbconvert_exporter": "python",
   "pygments_lexer": "ipython3",
   "version": "3.12.5"
  }
 },
 "nbformat": 4,
 "nbformat_minor": 2
}
