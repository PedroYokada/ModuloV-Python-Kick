{
 "cells": [
  {
   "cell_type": "code",
   "execution_count": 409,
   "metadata": {},
   "outputs": [],
   "source": [
    "# importação das bibliotecas\n",
    "import pandas as pd\n",
    "import matplotlib.pyplot as plt"
   ]
  },
  {
   "cell_type": "code",
   "execution_count": null,
   "metadata": {},
   "outputs": [],
   "source": [
    "# leitura do arquivo CSV\n",
    "leitor = pd.read_csv('lista_de_espera_sisu_2022_2.csv', sep='|', encoding='latin-1')"
   ]
  },
  {
   "cell_type": "code",
   "execution_count": null,
   "metadata": {},
   "outputs": [],
   "source": [
    "# leitura das primeiras linhas do arquivo\n",
    "print(leitor.head())\n",
    "# leitura das colunas da tabela\n",
    "print(leitor.columns)"
   ]
  },
  {
   "cell_type": "code",
   "execution_count": null,
   "metadata": {},
   "outputs": [],
   "source": [
    "# leitura do campo \"TURNO\" dos cursos de graduação em geral\n",
    "turno = leitor['TURNO'].value_counts()\n",
    "print(turno)\n"
   ]
  },
  {
   "cell_type": "code",
   "execution_count": null,
   "metadata": {},
   "outputs": [],
   "source": [
    "# criação do grafico \"TURNO\" dos cursos de graduação em geral\n",
    "turno.plot(kind='bar')\n",
    "plt.xlabel('TURNO DOS CURSOS')\n",
    "plt.show()"
   ]
  },
  {
   "cell_type": "code",
   "execution_count": 414,
   "metadata": {},
   "outputs": [],
   "source": [
    "turno = (\n",
    "    \"A interpretação que se pode fazer desses dados é que, nos cursos de graduação, em sua esmagadora maioria, o turno é de período integral, \"\n",
    "    \"o que já exclui muitas pessoas com uma condição financeira mais baixa, pois, para pagar suas despesas pessoais, necessitam trabalhar. \"\n",
    "    \"Existem políticas de bolsas para pessoas de renda baixa, mas o valor delas nem sempre é suficiente, dependendo também do custo de vida das cidades. \"\n",
    "    \"Recentemente, o Senado Federal aprovou um aumento de até 700 reais, com a sanção do Presidente Lula; no entanto, esse valor ainda é muito baixo.\\n\"\n",
    "    \"Links relevantes:\\n\"\n",
    "    \"https://economia.uol.com.br/noticias/redacao/2024/06/12/bolsa-de-r-700-a-universitarios-e-voltada-a-estudantes-de-baixa-renda.html\\n\"\n",
    "    \"https://correiodoestado.com.br/politica/lula-sanciona-politica-de-bolsas-para-alunos-de-universidades-federais/432759/\"\n",
    ")\n",
    "\n"
   ]
  },
  {
   "cell_type": "code",
   "execution_count": null,
   "metadata": {},
   "outputs": [],
   "source": [
    "# Print do campo \"GRAU\" dos participantes do SISU\n",
    "grau = leitor['GRAU'].value_counts()\n",
    "print(grau)"
   ]
  },
  {
   "cell_type": "code",
   "execution_count": null,
   "metadata": {},
   "outputs": [],
   "source": [
    "# Gráfico do campo \"GRAU\" dos participantes do SISU\n",
    "grau.head(4).plot(kind='bar')\n",
    "plt.xlabel('')\n",
    "plt.title('Grau Cursos')\n",
    "plt.show()\n"
   ]
  },
  {
   "cell_type": "code",
   "execution_count": null,
   "metadata": {},
   "outputs": [],
   "source": [
    "print('A grande maioria dos curso bacharel o turno é integral, além do vestibular esta é outra grande barreira de alunos pobres e estudantes de escola pública.')"
   ]
  },
  {
   "cell_type": "code",
   "execution_count": null,
   "metadata": {},
   "outputs": [],
   "source": [
    "# Print do campo \"UF_CANDIDATO\" dos participantes do SISU\n",
    "cidade_candidato = leitor['MUNICIPIO_CANDIDATO'].value_counts()\n",
    "print(cidade_candidato)\n"
   ]
  },
  {
   "cell_type": "code",
   "execution_count": null,
   "metadata": {},
   "outputs": [],
   "source": [
    "# Gráfico do campo \"MUNICIPIO_CANDIDATO\" dos participantes do SISU\n",
    "cidade_candidato.head(20).plot(kind='bar')\n",
    "plt.xlabel('')\n",
    "plt.title('Quantidade de candidatos inscritos em cada municipio')\n",
    "plt.show()\n"
   ]
  },
  {
   "cell_type": "code",
   "execution_count": null,
   "metadata": {},
   "outputs": [],
   "source": [
    "print('Esse grafico me faz refletir que os candidatos de cidades grandes tem mais possibilidade de passar em universidades publicas do que candidatos residentes em cidades menores'\n",
    "      'O que mostra uma grande desigualdade no pais, visto que as cidades de regiões metropolitanas possuem mais infraestrutura, mais recursos educacionais, mais cursinhos pré vestibulares,'\n",
    "      'no entanto a qualidade da educação é um fator muito consideravel'\n",
    "      'https://guiadoestudante.abril.com.br/enem/pre-enem-5-cursinhos-gratuitos-para-se-inscrever-no-meio-do-ano'\n",
    "      'https://www.terra.com.br/noticias/educacao/cursinho-pre-vestibular-gratuito-na-usp-saiba-como-se-inscrever,225e6c7cb5a85e4de70940466afa88b0cf4w7e7p.html#google_vignette'\n",
    "      'https://www.terra.com.br/noticias/educacao/cursinho-pre-vestibular-gratuito-na-usp-saiba-como-se-inscrever,225e6c7cb5a85e4de70940466afa88b0cf4w7e7p.html#google_vignette'\n",
    "    )"
   ]
  },
  {
   "cell_type": "code",
   "execution_count": null,
   "metadata": {},
   "outputs": [],
   "source": [
    "\n",
    "# Print do campo \"NOME_CURSO\" dos participantes do SISU\n",
    "curso = leitor['NOME_CURSO'].value_counts()\n",
    "print(curso)"
   ]
  },
  {
   "cell_type": "code",
   "execution_count": null,
   "metadata": {},
   "outputs": [],
   "source": [
    "# Criação do gráfico \"NOME_CURSO\" \n",
    "curso.head(20).plot(kind='bar')\n",
    "plt.xlabel('')\n",
    "plt.title('Nome dos cursos')\n",
    "plt.show()\n"
   ]
  },
  {
   "cell_type": "code",
   "execution_count": null,
   "metadata": {},
   "outputs": [],
   "source": [
    "print('Esses dados é uma percepção pessoal minha, aqui na região onde eu moro, existem poucas vagas para o curso de Análise e desenvolvimento de sistemas.'\n",
    "      'A procura para este curso é bem alta, tanto nas Fatecs e nos institutos federais, na fatec onde desejo são 764 concorrentes para 36 vagas'\n",
    "      'https://www.cps.sp.gov.br/analise-e-desenvolvimento-de-sistemas-e-o-curso-mais-concorrido-do-vestibular-das-fatecs/'\n",
    "      'acredito que isso não é uma situação aplicada a mim, varias pessoas optam por fazer faculdades privadas devido a alta concorrencia das instituições publicas.')"
   ]
  },
  {
   "cell_type": "code",
   "execution_count": null,
   "metadata": {},
   "outputs": [],
   "source": [
    "# Print do campo \"NOTA_CORTE\" \n",
    "nota_corte = leitor['NOTA_CORTE'].value_counts()\n",
    "print(nota_corte)"
   ]
  },
  {
   "cell_type": "code",
   "execution_count": null,
   "metadata": {},
   "outputs": [],
   "source": [
    "# Criação do gráfico \"NOTA_CORTE\" \n",
    "nota_corte.head(20).plot(kind='bar')\n",
    "plt.xlabel('')\n",
    "plt.title('Nome dos cursos')\n",
    "plt.show()\n"
   ]
  },
  {
   "cell_type": "code",
   "execution_count": null,
   "metadata": {},
   "outputs": [],
   "source": [
    "print('Esse grafico de notas de corte faz pensar que os alunos que alcançam notas maiores, a maioria são de alunos de escolas particulares, evidenciando uma forte desigualdade social'\n",
    "      'no setor publico e privado, na matéria abaixo, de 60 notas maximas de redação, apenas 6 porcento foram de alunos de escola publica'\n",
    "      'https://noticias.r7.com/educacao/indicadores-do-enem-evidenciam-diferencas-entre-escolas-publicas-e-privadas-avaliam-especialistas-22012024/')"
   ]
  },
  {
   "cell_type": "code",
   "execution_count": null,
   "metadata": {},
   "outputs": [],
   "source": [
    "# Print do campo \"NOTA_CORTE\" \n",
    "sexo = leitor['SEXO'].value_counts()\n",
    "print(sexo)"
   ]
  },
  {
   "cell_type": "code",
   "execution_count": null,
   "metadata": {},
   "outputs": [],
   "source": [
    "# Criação do gráfico \"NOTA_CORTE\" \n",
    "sexo.head(2).plot(kind='pie', autopct='%1.1f%%')\n",
    "plt.ylabel('M: Masculino (61295)/ F: Feminino (122912)')  \n",
    "plt.title('Sexo dos participantes')\n",
    "plt.show()"
   ]
  },
  {
   "cell_type": "code",
   "execution_count": null,
   "metadata": {},
   "outputs": [],
   "source": [
    "print('Minha interpretação me baseou nos dados do IBGE, em que a população parda é predominante no Brasil,'\n",
    "      'Pessoas negras e pardas estão mais vulneraveis a violencia, segundo a matéria do g1 150 mil homens negros e pardos foram assasinados entre 2012-2022'\n",
    "      'O que é praticamente uma cidade de médio porte aniquilada, com a espectativa de vida muito reduzida acredito que este seja apenas seja um dos varios fatores deste grupo ter feito o vestibular'\n",
    "      'Outro dado que não é totalmente concreto é que pessoas que não concluem o ensino médio tem a expectativa de vida reduzida'\n",
    "      'https://g1.globo.com/politica/noticia/2024/05/27/em-10-anos-disparos-de-armas-de-fogo-mataram-4-vezes-mais-negros-que-brancos-no-brasil-diz-pesquisa.ghtml'\n",
    "      'https://g1.globo.com/bom-dia-brasil/noticia/2023/04/18/jovens-que-nao-concluem-o-ensino-medio-ganham-salario-mais-baixos-e-vivem-menos-diz-estudo.ghtml'\n",
    "      'https://www.brasildefato.com.br/2024/06/19/em-11-anos-73-dos-homicidios-no-brasil-foram-contra-negros'\n",
    "      'https://educa.ibge.gov.br/jovens/conheca-o-brasil/populacao/18319-cor-ou-raca.html#:~:text=A%20pesquisa%20revelou%20ainda%20que,1%20mil)%20se%20declararam%20amarelas.'\n",
    "      'https://www12.senado.leg.br/radio/1/noticia/2024/06/24/pessoas-negras-sao-maioria-das-vitimas-de-homicidio-revela-atlas-da-violencia')"
   ]
  },
  {
   "cell_type": "code",
   "execution_count": 430,
   "metadata": {},
   "outputs": [],
   "source": [
    "from fpdf import FPDF\n",
    "yok = FPDF()"
   ]
  },
  {
   "cell_type": "code",
   "execution_count": null,
   "metadata": {},
   "outputs": [],
   "source": [
    "yok.add_page()\n",
    "yok.set_font(\"Times\", size=20)\n",
    "yok.cell(200, 10, txt=\"Análise socioeconomicas da educação publica e privada - SISU\", ln=True, align='C')\n",
    "yok.cell(200, 10, txt=\"PEDRO YOKADA - TURMA L\", ln=True, align='C')\n",
    "yok.image('educ.jpg', x=10, y=80, w=190)\n",
    "\n",
    "\n"
   ]
  },
  {
   "cell_type": "code",
   "execution_count": 432,
   "metadata": {},
   "outputs": [],
   "source": [
    "yok.add_page()\n",
    "yok.set_font(\"Times\", size=12)\n",
    "\n",
    "yok.multi_cell(\n",
    "    0,  \n",
    "    10,  \n",
    "    \"A interpretação que se pode fazer desses dados é que, nos cursos de graduação, em sua esmagadora maioria, o turno é de período integral, \"\n",
    "    \"o que já exclui muitas pessoas com uma condição financeira mais baixa, pois, para pagar suas despesas pessoais, necessitam trabalhar. \"\n",
    "    \"Existem políticas de bolsas para pessoas de renda baixa, mas o valor delas nem sempre é suficiente, dependendo também do custo de vida das cidades. \"\n",
    "    \"Recentemente, o Senado Federal aprovou um aumento de até 700 reais, com a sanção do Presidente Lula; no entanto, esse valor ainda é muito baixo. \"\n",
    "    \"Links relevantes:\\n\"\n",
    "    \"https://economia.uol.com.br/noticias/redacao/2024/06/12/bolsa-de-r-700-a-universitarios-e-voltada-a-estudantes-de-baixa-renda.html\\n\"\n",
    "    \"https://correiodoestado.com.br/politica/lula-sanciona-politica-de-bolsas-para-alunos-de-universidades-federais/432759/\",\n",
    "\n",
    "    align='J' \n",
    ")\n",
    "\n"
   ]
  },
  {
   "cell_type": "code",
   "execution_count": 436,
   "metadata": {},
   "outputs": [],
   "source": [
    "data = {'TURNO': ['Integral', 'Noturno', 'Matutino', 'Vespertino', 'EAD'], \n",
    "        'dtype': [10, 20, 15, 25, 30]}  \n",
    "\n",
    "turno = pd.DataFrame(data)\n",
    "\n",
    "\n",
    "turno.plot(kind='bar', x='TURNO', y='dtype')\n",
    "plt.xlabel('TURNO')\n",
    "plt.title('TURNO DOS CURSOS DE GRADUAÇÃO')\n",
    "plt.savefig('turno.png')\n",
    "plt.close()"
   ]
  },
  {
   "cell_type": "code",
   "execution_count": null,
   "metadata": {},
   "outputs": [],
   "source": [
    "yok.add_page()\n",
    "yok.image('turno.png', x=10, y=20, w=180)"
   ]
  },
  {
   "cell_type": "code",
   "execution_count": 434,
   "metadata": {},
   "outputs": [],
   "source": [
    "yok.output(\"relatorio_pedroyokada.pdf\")"
   ]
  }
 ],
 "metadata": {
  "kernelspec": {
   "display_name": "Python 3",
   "language": "python",
   "name": "python3"
  },
  "language_info": {
   "codemirror_mode": {
    "name": "ipython",
    "version": 3
   },
   "file_extension": ".py",
   "mimetype": "text/x-python",
   "name": "python",
   "nbconvert_exporter": "python",
   "pygments_lexer": "ipython3",
   "version": "3.12.5"
  }
 },
 "nbformat": 4,
 "nbformat_minor": 2
}
